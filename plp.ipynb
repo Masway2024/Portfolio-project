{
  "metadata": {
    "kernelspec": {
      "name": "python",
      "display_name": "Python (Pyodide)",
      "language": "python"
    },
    "language_info": {
      "codemirror_mode": {
        "name": "python",
        "version": 3
      },
      "file_extension": ".py",
      "mimetype": "text/x-python",
      "name": "python",
      "nbconvert_exporter": "python",
      "pygments_lexer": "ipython3",
      "version": "3.8"
    }
  },
  "nbformat_minor": 4,
  "nbformat": 4,
  "cells": [
    {
      "cell_type": "code",
      "source": "class Person:\n    def __init__(self, name, age, gender):\n        self.name = name\n        self.age = age\n        self.gender = gender\n    \n    def introduce(self):\n        print(f\"Hello, my name is {self.name}. I am {self.age} years old and I am {self.gender}.\")\n\n# Create an instance of the Person class\nperson = Person(\"John\", 30, \"male\")\n\n# Call the introduce method to display the person's information\nperson.introduce()\n",
      "metadata": {
        "trusted": true
      },
      "outputs": [
        {
          "name": "stdout",
          "text": "Hello, my name is John. I am 30 years old and I am male.\n",
          "output_type": "stream"
        }
      ],
      "execution_count": 1
    },
    {
      "cell_type": "code",
      "source": "",
      "metadata": {
        "trusted": true
      },
      "outputs": [],
      "execution_count": null
    },
    {
      "cell_type": "code",
      "source": "",
      "metadata": {
        "trusted": true
      },
      "outputs": [],
      "execution_count": null
    }
  ]
}