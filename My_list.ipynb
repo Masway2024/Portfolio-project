{
  "nbformat": 4,
  "nbformat_minor": 0,
  "metadata": {
    "colab": {
      "provenance": [],
      "authorship_tag": "ABX9TyOq71v0kziCrbi4gzJAN42B",
      "include_colab_link": true
    },
    "kernelspec": {
      "name": "python3",
      "display_name": "Python 3"
    },
    "language_info": {
      "name": "python"
    }
  },
  "cells": [
    {
      "cell_type": "markdown",
      "metadata": {
        "id": "view-in-github",
        "colab_type": "text"
      },
      "source": [
        "<a href=\"https://colab.research.google.com/github/Masway2024/Portfolio-project/blob/main/My_list.ipynb\" target=\"_parent\"><img src=\"https://colab.research.google.com/assets/colab-badge.svg\" alt=\"Open In Colab\"/></a>"
      ]
    },
    {
      "cell_type": "code",
      "execution_count": null,
      "metadata": {
        "colab": {
          "base_uri": "https://localhost:8080/"
        },
        "id": "J9ToJA1yztt-",
        "outputId": "9ac35b71-cfdf-4b82-bb78-d7fbcc0a22b6"
      },
      "outputs": [
        {
          "output_type": "stream",
          "name": "stdout",
          "text": [
            "Index of 30 in my_list: 3\n",
            "Final my_list: [10, 15, 20, 30, 40, 50, 60]\n"
          ]
        }
      ],
      "source": [
        "# Create an empty list called my_list\n",
        "my_list = []\n",
        "\n",
        "# Append elements to my_list\n",
        "my_list.append(10)\n",
        "my_list.append(20)\n",
        "my_list.append(30)\n",
        "my_list.append(40)\n",
        "\n",
        "# Insert the value 15 at the second position in the list\n",
        "my_list.insert(1, 15)\n",
        "\n",
        "# Extend my_list with another list: [50, 60, 70]\n",
        "my_list.extend([50, 60, 70])\n",
        "\n",
        "# Remove the last element from my_list\n",
        "my_list.pop()\n",
        "\n",
        "# Sort my_list in ascending order\n",
        "my_list.sort()\n",
        "\n",
        "# Find and print the index of the value 30 in my_list\n",
        "index_30 = my_list.index(30)\n",
        "print(\"Index of 30 in my_list:\", index_30)\n",
        "\n",
        "# Print the final my_list\n",
        "print(\"Final my_list:\", my_list)"
      ]
    }
  ]
}